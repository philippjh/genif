{
 "cells": [
  {
   "cell_type": "markdown",
   "metadata": {},
   "source": [
    "# Quick Start"
   ]
  },
  {
   "cell_type": "markdown",
   "metadata": {},
   "source": [
    "Instantiate an ordinary NumPy array, which holds the data we want to inspect for outlying observations: "
   ]
  },
  {
   "cell_type": "code",
   "execution_count": 1,
   "metadata": {},
   "outputs": [],
   "source": [
    "import numpy as np\n",
    "from genif import GeneralizedIsolationForest\n",
    "\n",
    "N = 1000\n",
    "d = 50\n",
    "X = np.random.random((N, d))"
   ]
  },
  {
   "cell_type": "markdown",
   "metadata": {},
   "source": [
    "We may now construct an instance of the `GeneralizedIsolationForest` and call the `fit_predict` method to receive predictions:"
   ]
  },
  {
   "cell_type": "code",
   "execution_count": 2,
   "metadata": {},
   "outputs": [
    {
     "data": {
      "text/plain": [
       "array([0.00322031, 0.0031    , 0.00304063, 0.00335938, 0.00295469,\n",
       "       0.00334531, 0.00304844, 0.00302813, 0.00267656, 0.00299531,\n",
       "       0.00277969, 0.00304844, 0.00305937, 0.0036375 , 0.00280938,\n",
       "       0.00264219, 0.0028875 , 0.00277031, 0.0031625 , 0.00306719,\n",
       "       0.00316094, 0.00313125, 0.00304844, 0.00296875, 0.00288281,\n",
       "       0.00292031, 0.00317031, 0.00312031, 0.0031375 , 0.00308125,\n",
       "       0.00309063, 0.00336563, 0.00338125, 0.00306719, 0.00306094,\n",
       "       0.0033125 , 0.00270156, 0.00283906, 0.00314688, 0.00292813,\n",
       "       0.00351875, 0.00294063, 0.00314844, 0.00341875, 0.00345156,\n",
       "       0.00313281, 0.00332344, 0.00308594, 0.00281406, 0.00292969])"
      ]
     },
     "execution_count": 2,
     "metadata": {},
     "output_type": "execute_result"
    }
   ],
   "source": [
    "gif = GeneralizedIsolationForest(k=10, n_models=50, sample_size=256, kernel=\"rbf\", kernel_scaling=[0.05], sigma=0.01)\n",
    "gif.fit_predict(X)[:50]"
   ]
  },
  {
   "cell_type": "markdown",
   "metadata": {},
   "source": [
    "The given output indicates the probabilities for the first fifty vectors by the region it has been assigned to. Values near one stand for rather inlying observations, while values near zero stand for rather outlying observations."
   ]
  }
 ],
 "metadata": {
  "kernelspec": {
   "display_name": "Python 3",
   "language": "python",
   "name": "python3"
  },
  "language_info": {
   "codemirror_mode": {
    "name": "ipython",
    "version": 3
   },
   "file_extension": ".py",
   "mimetype": "text/x-python",
   "name": "python",
   "nbconvert_exporter": "python",
   "pygments_lexer": "ipython3",
   "version": "3.9.1"
  }
 },
 "nbformat": 4,
 "nbformat_minor": 4
}
