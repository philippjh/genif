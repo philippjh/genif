{
 "cells": [
  {
   "cell_type": "markdown",
   "metadata": {},
   "source": [
    "# Generalized Isolation Forest"
   ]
  },
  {
   "cell_type": "markdown",
   "metadata": {},
   "source": [
    "This is a Jupyter notebook demonstrating the basic usage of the `genif` package, which provides an implementation to the Generalized Isolation Forest (GIF) algorithm. This algorithm has been originally proposed in:\n",
    "\n",
    "> Buschjäger, S., Honysz, PJ. & Morik, K. Randomized outlier detection with trees. International Journal of Data Science and Analytics (2020). https://doi.org/10.1007/s41060-020-00238-w"
   ]
  },
  {
   "cell_type": "markdown",
   "metadata": {},
   "source": [
    "For demonstration purposes, we instantiate an ordinary NumPy array, which holds our data we want to inspect for outlying observations: "
   ]
  },
  {
   "cell_type": "code",
   "execution_count": 1,
   "metadata": {},
   "outputs": [],
   "source": [
    "import numpy as np\n",
    "from genif import GeneralizedIsolationForest\n",
    "import matplotlib.pyplot as plt\n",
    "\n",
    "N = 1000\n",
    "d = 50\n",
    "X = np.random.random((N, d))"
   ]
  },
  {
   "cell_type": "markdown",
   "metadata": {},
   "source": [
    "We may now construct an instance of the `GeneralizedIsolationForest`."
   ]
  },
  {
   "cell_type": "code",
   "execution_count": 2,
   "metadata": {},
   "outputs": [],
   "source": [
    "gif = GeneralizedIsolationForest(k=10, n_models=50, sample_size=256, kernel=\"rbf\", kernel_scaling=[0.05], sigma=0.01)"
   ]
  },
  {
   "cell_type": "markdown",
   "metadata": {},
   "source": [
    "This class implements the GIF algorithm and follow some basic principles already known from the `sklearn` package. Especially, we are providing the following three methods:\n",
    "\n",
    "- `fit`: Learns a GIF model and assigns the learned model to the created class instance (i.e. `gif` in this case).\n",
    "- `predict`: Applies a learned model to (potentially unknown) data and returns a vector of probabilities for every data vector.\n",
    "- `fit_predict`: Learns a GIF model based on a data matrix and identifies outliers immediately, returning a vector of probabilities for every data vector.\n",
    "\n",
    "We demonstrate the package using the `fit_predict` method, as follows:"
   ]
  },
  {
   "cell_type": "code",
   "execution_count": 3,
   "metadata": {},
   "outputs": [
    {
     "data": {
      "text/plain": [
       "array([0.00351406, 0.0033375 , 0.00316562, 0.00280937, 0.0033625 ,\n",
       "       0.00306406, 0.00281875, 0.00323906, 0.00337656, 0.00296562,\n",
       "       0.00317031, 0.00288906, 0.00386875, 0.00364844, 0.00317969,\n",
       "       0.00267188, 0.00277031, 0.00334844, 0.00300781, 0.00336094,\n",
       "       0.00300156, 0.0029375 , 0.0034125 , 0.00325938, 0.00323594,\n",
       "       0.00303437, 0.00339062, 0.00290313, 0.00294375, 0.00340937,\n",
       "       0.00312656, 0.003175  , 0.00312031, 0.00281719, 0.00344687,\n",
       "       0.00326875, 0.00349687, 0.00312812, 0.00303281, 0.00339844,\n",
       "       0.00295781, 0.00326406, 0.00293281, 0.00324063, 0.0030125 ,\n",
       "       0.00335781, 0.003025  , 0.00287187, 0.00294375, 0.00287813])"
      ]
     },
     "execution_count": 3,
     "metadata": {},
     "output_type": "execute_result"
    }
   ],
   "source": [
    "gif.fit_predict(X)[:50]"
   ]
  },
  {
   "cell_type": "markdown",
   "metadata": {},
   "source": [
    "The given output indicates the probabilities for the first fifty vectors by the region it has been assigned to. Values near one stand for rather inlying observations, while values near zero stand for rather outlying observations."
   ]
  },
  {
   "cell_type": "markdown",
   "metadata": {},
   "source": [
    "Beside varyiing the number of regions to find per node (i.e. $k$), the similarity threshold `sigma` and controlling the Ensemble parameters (i.e. `n_models` and `sample_size`), it is also possible to choose from different kernels: This implementation supports the RBF kernel and the Matèrn kernel with $\\nu \\in \\left\\lbrace 1/2, 3/2, 5/2 \\right\\rbrace$ by providing `rbf`, `matern-d1`, `matern-d3` or `matern-d5` for the `kernel` parameter. \n",
    "\n",
    "Please note, that the Matèrn kernel does not expect a single scaling parameter (like the RBF kernel does) but a list of scalings with a scale for every dimension of the input dataset. For example:"
   ]
  },
  {
   "cell_type": "code",
   "execution_count": 4,
   "metadata": {},
   "outputs": [],
   "source": [
    "gif = GeneralizedIsolationForest(k=10, n_models=50, sample_size=256, kernel=\"matern-d3\", kernel_scaling=np.repeat(0.05, d), sigma=0.01)"
   ]
  },
  {
   "cell_type": "markdown",
   "metadata": {},
   "source": [
    "## Toy datasets"
   ]
  },
  {
   "cell_type": "markdown",
   "metadata": {},
   "source": [
    "The following code snippet visually demonstrates the operation of the GIF algorithm. The code has been slightly modified from `scikit-learn`'s example of the original Isolation Forest algorithm."
   ]
  },
  {
   "cell_type": "code",
   "execution_count": 5,
   "metadata": {
    "scrolled": true
   },
   "outputs": [
    {
     "data": {
      "image/png": "[encoded data removed]",
      "text/plain": [
       "<Figure size 432x288 with 1 Axes>"
      ]
     },
     "metadata": {
      "needs_background": "light"
     },
     "output_type": "display_data"
    }
   ],
   "source": [
    "rng = np.random.RandomState(42)\n",
    "\n",
    "# Generate train data\n",
    "X = 0.3 * rng.randn(100, 2)\n",
    "X_train = np.r_[X + 2, X - 2]\n",
    "\n",
    "# Generate some regular novel observations\n",
    "X = 0.3 * rng.randn(20, 2)\n",
    "X_test = np.r_[X + 2, X - 2]\n",
    "\n",
    "# Generate some abnormal novel observations\n",
    "X_outliers = rng.uniform(low=-4, high=4, size=(20, 2))\n",
    "\n",
    "# Fit the model.\n",
    "clf = GeneralizedIsolationForest(k=10, n_models=50, sample_size=256, kernel=\"rbf\", kernel_scaling=np.repeat(0.01, 1), sigma=0.01)\n",
    "clf.fit(X_train)\n",
    "y_pred_train = clf.predict(X_train)\n",
    "y_pred_test = clf.predict(X_test)\n",
    "y_pred_outliers = clf.predict(X_outliers)\n",
    "\n",
    "# Create mesh grid and find probability values for every point in the grid.\n",
    "xx, yy = np.meshgrid(np.linspace(-5, 5, 50), np.linspace(-5, 5, 50))\n",
    "Z = clf.predict(np.c_[xx.ravel(), yy.ravel()])\n",
    "Z = Z.reshape(xx.shape)\n",
    "\n",
    "# Create the accompanying plot.\n",
    "plt.title(\"Generalized Isolation Forest\")\n",
    "plt.contourf(xx, yy, Z, cmap=plt.cm.Blues_r)\n",
    "\n",
    "b1 = plt.scatter(X_train[:, 0], X_train[:, 1], c='white', s=20, edgecolor='k')\n",
    "b2 = plt.scatter(X_test[:, 0], X_test[:, 1], c='green', s=20, edgecolor='k')\n",
    "c = plt.scatter(X_outliers[:, 0], X_outliers[:, 1], c='red', s=20, edgecolor='k')\n",
    "\n",
    "plt.axis('tight')\n",
    "plt.xlim((-5, 5))\n",
    "plt.ylim((-5, 5))\n",
    "plt.legend([b1, b2, c], [\"training observations\", \"new regular observations\", \"new abnormal observations\"], loc=\"upper left\")\n",
    "plt.show()"
   ]
  }
 ],
 "metadata": {
  "kernelspec": {
   "display_name": "Python 3",
   "language": "python",
   "name": "python3"
  },
  "language_info": {
   "codemirror_mode": {
    "name": "ipython",
    "version": 3
   },
   "file_extension": ".py",
   "mimetype": "text/x-python",
   "name": "python",
   "nbconvert_exporter": "python",
   "pygments_lexer": "ipython3",
   "version": "3.9.1"
  }
 },
 "nbformat": 4,
 "nbformat_minor": 4
}
